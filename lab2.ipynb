{
 "cells": [
  {
   "cell_type": "markdown",
   "metadata": {},
   "source": [
    "# Lab 2. Introduction to  *Python*"
   ]
  },
  {
   "cell_type": "markdown",
   "metadata": {},
   "source": [
    "## Some preliminary steps \n",
    "\n",
    "First thing to do is to set up the Python environment.\n",
    "\n",
    "  * See [here](https://github.com/ys7yoo/pattern-recognition/blob/master/lab325.md) for information about the setting of Lab 325 PCs.\n",
    "\n",
    "  * See [here](https://github.com/ys7yoo/PyBasic/blob/master/README.md#2-setting-up-python-environment) for more general information.\n",
    " \n",
    "\n",
    "Next, Learn about Jupyter notebook from [here](https://github.com/ys7yoo/PyBasic/blob/master/README.md#3-jupyter-notebook)."
   ]
  },
  {
   "cell_type": "markdown",
   "metadata": {},
   "source": [
    "## 2. Let's use Jupyter notebook!\n",
    "Brief memo on Jupyter note book is [here](https://github.com/ys7yoo/PyBasic#jupyter-notebook)."
   ]
  },
  {
   "cell_type": "code",
   "execution_count": null,
   "metadata": {
    "collapsed": true
   },
   "outputs": [],
   "source": []
  }
 ],
 "metadata": {
  "kernelspec": {
   "display_name": "Python 3",
   "language": "python",
   "name": "python3"
  },
  "language_info": {
   "codemirror_mode": {
    "name": "ipython",
    "version": 3
   },
   "file_extension": ".py",
   "mimetype": "text/x-python",
   "name": "python",
   "nbconvert_exporter": "python",
   "pygments_lexer": "ipython3",
   "version": "3.6.4"
  }
 },
 "nbformat": 4,
 "nbformat_minor": 2
}
